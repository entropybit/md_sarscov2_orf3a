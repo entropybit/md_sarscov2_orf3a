{
 "cells": [
  {
   "cell_type": "code",
   "execution_count": 1,
   "id": "39ab635d-633a-4a24-bc5d-1edd4c79d1bc",
   "metadata": {},
   "outputs": [],
   "source": [
    "import biotite\n",
    "import biotite.structure as struc\n",
    "import biotite.structure.io as strucio\n",
    "import os\n",
    "import biotite.structure.io.xtc as xtc\n",
    "import numpy as np\n",
    "import matplotlib.pyplot as plt"
   ]
  },
  {
   "cell_type": "code",
   "execution_count": 2,
   "id": "8a7b82b3-70d8-4318-96f4-02113939ea8a",
   "metadata": {},
   "outputs": [
    {
     "data": {
      "text/plain": [
       "['output_6xdc_SB431542_edit.pdb_ligand_sb431542_edit.sdf_ESPALOMA',\n",
       " 'output_6xdc_bacteriochlorin_prot.pdb_bacteriochlorin.sdf_ESPALOMA']"
      ]
     },
     "execution_count": 2,
     "metadata": {},
     "output_type": "execute_result"
    }
   ],
   "source": [
    "output_folders = [x for x in os.listdir(\".\") if \"output_\" in x]\n",
    "output_folders = output_folders[:-1]\n",
    "output_folders"
   ]
  },
  {
   "cell_type": "code",
   "execution_count": 3,
   "id": "1386b0c0-b9ba-42d6-9d3f-3902ff60c0b9",
   "metadata": {},
   "outputs": [
    {
     "data": {
      "text/plain": [
       "['6xdc_SB431542_edit.pdb_ligand_sb431542_edit.sdf_ESPALOMA_npt_pulling.log',\n",
       " '6xdc_SB431542_edit.pdb_ligand_sb431542_edit.sdf_ESPALOMA_npt_pulling.trr',\n",
       " '6xdc_SB431542_edit.pdb_ligand_sb431542_edit.sdf_ESPALOMA_npt_pulling.xtc',\n",
       " '6xdc_SB431542_edit.pdb_ligand_sb431542_edit.sdf_ESPALOMA_npt_pulling_clustered_fit.pdb',\n",
       " '6xdc_SB431542_edit.pdb_ligand_sb431542_edit.sdf_ESPALOMA_npt_pulling_pullf.xvg',\n",
       " 'pulling_sb431542.pdb',\n",
       " '6xdc_SB431542_edit.pdb_ligand_sb431542_edit.sdf_ESPALOMA_npt_pulling_clustered.xtc',\n",
       " '4-npt-pulling.mdp',\n",
       " '6xdc_SB431542_edit.pdb_ligand_sb431542_edit.sdf_ESPALOMA_npt_pulling.tpr',\n",
       " '6xdc_SB431542_edit.pdb_ligand_sb431542_edit.sdf_ESPALOMA_npt_pulling.edr',\n",
       " '6xdc_SB431542_edit.pdb_ligand_sb431542_edit.sdf_ESPALOMA_npt_pulling_pullx.xvg',\n",
       " '6xdc_SB431542_edit.pdb_ligand_sb431542_edit.sdf_ESPALOMA_npt_pulling_step3525.cpt',\n",
       " 'plot_pulling_over_time',\n",
       " '6xdc_SB431542_edit.pdb_ligand_sb431542_edit.sdf_ESPALOMA_npt_pulling.cpt',\n",
       " 'plot_pulling_over_distance',\n",
       " '6xdc_SB431542_edit.pdb_ligand_sb431542_edit.sdf_ESPALOMA_npt_pulling_prev.cpt',\n",
       " '6xdc_SB431542_edit.pdb_ligand_sb431542_edit.sdf_ESPALOMA_npt_pulling_clustered_fit.xtc']"
      ]
     },
     "execution_count": 3,
     "metadata": {},
     "output_type": "execute_result"
    }
   ],
   "source": [
    "pulling_files_per_folder = []\n",
    "for folder in output_folders:\n",
    "    pulling_files = [x for x in os.listdir(folder) if \"pulling\" in x and \"#\" not in x]\n",
    "    pulling_files_per_folder.append(pulling_files)\n",
    "\n",
    "pulling_files_per_folder[0]"
   ]
  },
  {
   "cell_type": "code",
   "execution_count": 4,
   "id": "f36f7899-2830-47c6-a367-92efcf4e08c2",
   "metadata": {},
   "outputs": [
    {
     "data": {
      "text/plain": [
       "[['6xdc_SB431542_edit.pdb_ligand_sb431542_edit.sdf_ESPALOMA_npt_pulling.xtc',\n",
       "  '6xdc_SB431542_edit.pdb_ligand_sb431542_edit.sdf_ESPALOMA_npt_pulling_clustered.xtc',\n",
       "  '6xdc_SB431542_edit.pdb_ligand_sb431542_edit.sdf_ESPALOMA_npt_pulling_clustered_fit.xtc'],\n",
       " ['6xdc_bacteriochlorin_prot.pdb_bacteriochlorin.sdf_ESPALOMA_npt_pulling_clustered_fit.xtc',\n",
       "  '6xdc_bacteriochlorin_prot.pdb_bacteriochlorin.sdf_ESPALOMA_npt_pulling_clustered.xtc',\n",
       "  '6xdc_bacteriochlorin_prot.pdb_bacteriochlorin.sdf_ESPALOMA_npt_pulling.xtc']]"
      ]
     },
     "execution_count": 4,
     "metadata": {},
     "output_type": "execute_result"
    }
   ],
   "source": [
    "pulling_xtcs = []\n",
    "for files in pulling_files_per_folder:\n",
    "    xtcs = [x for x in files if \".xtc\" in x]\n",
    "    pulling_xtcs.append(xtcs)\n",
    "\n",
    "pulling_xtcs"
   ]
  },
  {
   "cell_type": "code",
   "execution_count": 5,
   "id": "f4c0b766-35d7-4b58-8b07-18fc8550441a",
   "metadata": {},
   "outputs": [],
   "source": [
    "conf0_sb431542 = strucio.load_structure('output_6xdc_SB431542_edit.pdb_ligand_sb431542_edit.sdf_ESPALOMA/pulling_sb431542.pdb', model=1)\n",
    "conf0_bacteriochlorin = strucio.load_structure('output_6xdc_bacteriochlorin_prot.pdb_bacteriochlorin.sdf_ESPALOMA/pulling_bacteriochlorin.pdb', model=1)"
   ]
  },
  {
   "cell_type": "code",
   "execution_count": 6,
   "id": "d01cdf8e-0287-4ade-9706-cd9d8c8bdba1",
   "metadata": {},
   "outputs": [],
   "source": [
    "protein_mask = struc.filter_amino_acids(conf0_sb431542)\n",
    "conf0_sb431542 = conf0_sb431542[protein_mask]\n",
    "folder = \"output_6xdc_SB431542_edit.pdb_ligand_sb431542_edit.sdf_ESPALOMA\"\n",
    "traj_file_path = folder + \"/6xdc_SB431542_edit.pdb_ligand_sb431542_edit.sdf_ESPALOMA_npt_pulling_clustered_fit.xtc\"\n",
    "xtc_file_sb431542 = xtc.XTCFile.read(traj_file_path, atom_i=np.where(protein_mask)[0])\n",
    "trajectory_sb431542 = xtc_file_sb431542.get_structure(conf0_sb431542)\n",
    "time_sb431542 = xtc_file_sb431542.get_time()"
   ]
  },
  {
   "cell_type": "code",
   "execution_count": 7,
   "id": "4e1fd355-44b6-404f-8968-f4f397acb828",
   "metadata": {},
   "outputs": [],
   "source": [
    "protein_mask = struc.filter_amino_acids(conf0_bacteriochlorin)\n",
    "conf0_bacteriochlorin = conf0_bacteriochlorin[protein_mask]\n",
    "folder = \"output_6xdc_bacteriochlorin_prot.pdb_bacteriochlorin.sdf_ESPALOMA\"\n",
    "traj_file_path_bacteriochlorin = folder + \"/6xdc_bacteriochlorin_prot.pdb_bacteriochlorin.sdf_ESPALOMA_npt_pulling_clustered_fit.xtc\"\n",
    "xtc_file_bacteriochlorin = xtc.XTCFile.read(traj_file_path_bacteriochlorin, atom_i=np.where(protein_mask)[0])\n",
    "trajectory_bacteriochlorin = xtc_file_bacteriochlorin.get_structure(conf0_bacteriochlorin)\n",
    "time_bacteriochlorin = xtc_file_bacteriochlorin.get_time()"
   ]
  },
  {
   "cell_type": "code",
   "execution_count": 8,
   "id": "b18892b4-fd13-420c-95bc-c72ccbac13ba",
   "metadata": {},
   "outputs": [],
   "source": [
    "traj_protein_sb431542 = trajectory_sb431542[:, trajectory_sb431542.chain_id != \"C\"]\n",
    "traj_ligand_sb431542 = trajectory_sb431542[:, trajectory_sb431542.chain_id == \"C\"]\n",
    "traj_protein_bacteriochlorin = trajectory_bacteriochlorin[:,trajectory_bacteriochlorin.chain_id != \"C\"]\n",
    "traj_ligand_bacteriochlorin = trajectory_bacteriochlorin[:,trajectory_bacteriochlorin.chain_id == \"C\"]"
   ]
  },
  {
   "cell_type": "code",
   "execution_count": 9,
   "id": "3ee492a6-63fe-4887-9e67-cc75647af7d2",
   "metadata": {},
   "outputs": [],
   "source": [
    "com_prot_sb431542 = struc.mass_center(traj_protein_sb431542)\n",
    "com_lig_sb431542 = struc.mass_center(traj_ligand_sb431542)\n",
    "com_prot_bact = struc.mass_center(traj_protein_bacteriochlorin)\n",
    "com_lig_bact = struc.mass_center(traj_ligand_bacteriochlorin)"
   ]
  },
  {
   "cell_type": "code",
   "execution_count": 10,
   "id": "9ce73838-96ee-49cc-92dc-ec0f8746f7c8",
   "metadata": {},
   "outputs": [],
   "source": [
    "dR_lig_prot_sb431542 = np.linalg.norm(com_prot_sb431542 - com_lig_sb431542, axis=1)\n",
    "dR_lig_prot_bact = np.linalg.norm(com_prot_bact - com_lig_bact, axis=1)"
   ]
  },
  {
   "cell_type": "code",
   "execution_count": 23,
   "id": "862cc723-f14b-41a8-b466-b5131aa1ebda",
   "metadata": {},
   "outputs": [],
   "source": [
    "#ind_1nm = np.argmin(np.power(dR_lig_prot_sb431542 - dR_lig_prot_sb431542[0]- 10, 2.0))\n",
    "def funct(dR, r):\n",
    "    return np.power(dR - dR[0] - r, 2.0)\n",
    "\n",
    "inds_sb431542= np.unique([np.argmin(funct(dR_lig_prot_sb431542, r)) for r in np.linspace(0, 80, 20)])\n",
    "inds_bact= np.unique([np.argmin(funct(dR_lig_prot_bact, r)) for r in np.linspace(0, 80, 20)])"
   ]
  },
  {
   "cell_type": "code",
   "execution_count": 24,
   "id": "e5931933-9e6b-4af2-8cc3-a4c115b0f109",
   "metadata": {},
   "outputs": [
    {
     "data": {
      "text/plain": [
       "array([  0,  82, 129, 158, 197, 232, 287, 318, 359, 400, 443, 493, 533,\n",
       "       568, 620, 657, 660])"
      ]
     },
     "execution_count": 24,
     "metadata": {},
     "output_type": "execute_result"
    }
   ],
   "source": [
    "inds_bact"
   ]
  },
  {
   "cell_type": "code",
   "execution_count": 25,
   "id": "6ebf32bf-3249-4311-8b5a-7c72462dbb64",
   "metadata": {},
   "outputs": [
    {
     "data": {
      "text/plain": [
       "array([1.53677619, 1.96237754, 2.38356257, 2.80248708, 3.21913432,\n",
       "       3.64172555, 4.06517636, 4.48337102, 4.90404244, 5.3252148 ,\n",
       "       5.74404059, 6.17254647, 6.58652748, 7.01513171, 7.43403281,\n",
       "       7.85409295, 7.88504395])"
      ]
     },
     "execution_count": 25,
     "metadata": {},
     "output_type": "execute_result"
    }
   ],
   "source": [
    "dR_lig_prot_bact[inds_bact]*0.1"
   ]
  },
  {
   "cell_type": "code",
   "execution_count": 26,
   "id": "cc52635c-dd8b-4e2d-b8cc-f12f8690a52e",
   "metadata": {},
   "outputs": [
    {
     "data": {
      "text/plain": [
       "array([0.        , 0.20512821, 0.41025641, 0.61538462, 0.82051282,\n",
       "       1.02564103, 1.23076923, 1.43589744, 1.64102564, 1.84615385,\n",
       "       2.05128205, 2.25641026, 2.46153846, 2.66666667, 2.87179487,\n",
       "       3.07692308, 3.28205128, 3.48717949, 3.69230769, 3.8974359 ,\n",
       "       4.1025641 , 4.30769231, 4.51282051, 4.71794872, 4.92307692,\n",
       "       5.12820513, 5.33333333, 5.53846154, 5.74358974, 5.94871795,\n",
       "       6.15384615, 6.35897436, 6.56410256, 6.76923077, 6.97435897,\n",
       "       7.17948718, 7.38461538, 7.58974359, 7.79487179, 8.        ])"
      ]
     },
     "execution_count": 26,
     "metadata": {},
     "output_type": "execute_result"
    }
   ],
   "source": [
    "np.linspace(0, 80, 40)*0.1"
   ]
  },
  {
   "cell_type": "code",
   "execution_count": 27,
   "id": "1f10d918-ac82-488e-bed4-daf75f151d7b",
   "metadata": {},
   "outputs": [
    {
     "data": {
      "text/plain": [
       "array([  0, 100, 132, 158, 187, 234, 274, 313, 351, 401, 445, 489, 527,\n",
       "       573, 611, 663, 676])"
      ]
     },
     "execution_count": 27,
     "metadata": {},
     "output_type": "execute_result"
    }
   ],
   "source": [
    "inds_sb431542"
   ]
  },
  {
   "cell_type": "code",
   "execution_count": 30,
   "id": "b1d2f7e5-458c-48e4-b70a-e0b60a58feed",
   "metadata": {},
   "outputs": [
    {
     "data": {
      "text/plain": [
       "Text(0, 0.5, '$R_{pull}$ [nm]')"
      ]
     },
     "execution_count": 30,
     "metadata": {},
     "output_type": "execute_result"
    },
    {
     "data": {
      "image/png": "[encoded data removed]",
      "text/plain": [
       "<Figure size 640x480 with 1 Axes>"
      ]
     },
     "metadata": {},
     "output_type": "display_data"
    }
   ],
   "source": [
    "plt.plot(time_sb431542*0.001, dR_lig_prot_sb431542*0.1)\n",
    "plt.plot(time_bacteriochlorin*0.001, dR_lig_prot_bact*0.1)\n",
    "#plt.axhline(dR_lig_prot_sb431542[ind_1nm]*0.1, ls=\"--\")\n",
    "for ind in inds_sb431542:\n",
    "    plt.axhline(dR_lig_prot_sb431542[ind]*0.1, ls=\"--\")\n",
    "\n",
    "for ind in inds_bact:\n",
    "    plt.axhline(dR_lig_prot_bact[ind]*0.1, ls=\"--\", color=\"orange\")\n",
    "\n",
    "plt.xlabel(\"t [ns]\")\n",
    "plt.ylabel(\"$R_{pull}$ [nm]\")"
   ]
  },
  {
   "cell_type": "code",
   "execution_count": 34,
   "id": "ffa88d5f-ea94-4ae2-9394-ebfe15ee0304",
   "metadata": {},
   "outputs": [],
   "source": [
    "batch_job_umbrella_sb431542 = None\n",
    "with open(\"job_ligand_sb431542_umbrella\") as f_job:\n",
    "    batch_job_umbrella_sb431542 = f_job.read()\n",
    "\n",
    "batch_job_umbrella_bact = None\n",
    "with open(\"job_ligand_bacteriochlorin_umbrella\") as f_job:\n",
    "    batch_job_umbrella_bact = f_job.read()"
   ]
  },
  {
   "cell_type": "code",
   "execution_count": 36,
   "id": "40f04052-95c3-46aa-9314-c1fdc2dc6ecd",
   "metadata": {},
   "outputs": [
    {
     "name": "stdout",
     "output_type": "stream",
     "text": [
      "writing job 'job_ligand_sb431542_umbrella_1'\n",
      "writing job 'job_ligand_sb431542_umbrella_2'\n",
      "writing job 'job_ligand_sb431542_umbrella_3'\n",
      "writing job 'job_ligand_sb431542_umbrella_4'\n",
      "writing job 'job_ligand_sb431542_umbrella_5'\n",
      "writing job 'job_ligand_sb431542_umbrella_6'\n",
      "writing job 'job_ligand_sb431542_umbrella_7'\n",
      "writing job 'job_ligand_sb431542_umbrella_8'\n",
      "writing job 'job_ligand_sb431542_umbrella_9'\n",
      "writing job 'job_ligand_sb431542_umbrella_10'\n",
      "writing job 'job_ligand_sb431542_umbrella_11'\n",
      "writing job 'job_ligand_sb431542_umbrella_12'\n",
      "writing job 'job_ligand_sb431542_umbrella_13'\n",
      "writing job 'job_ligand_sb431542_umbrella_14'\n",
      "writing job 'job_ligand_sb431542_umbrella_15'\n",
      "writing job 'job_ligand_sb431542_umbrella_16'\n",
      "to run all jobs do :: \n",
      "$ for i in {1..19}; do sbatch job_ligand_sb431542_umbrella_${i}; done\n",
      "\n",
      "\n"
     ]
    }
   ],
   "source": [
    "for i, ind in enumerate(inds_sb431542):\n",
    "    if i > 0:\n",
    "        job_to_write = batch_job_umbrella_sb431542.replace(\"__CONF__\", str(ind))\n",
    "        job_name = \"job_ligand_sb431542_umbrella_{0}\".format(i)\n",
    "        print(\"writing job '{0}'\".format(job_name))\n",
    "        with open(job_name, \"w\") as f_job_out:\n",
    "            f_job_out.write(job_to_write)\n",
    "\n",
    "print(\"to run all jobs do :: \")\n",
    "print(\"$ for i in {1..19}; do sbatch job_ligand_sb431542_umbrella_${i}; done\\n\\n\")"
   ]
  },
  {
   "cell_type": "code",
   "execution_count": 14,
   "id": "27d53ec7-a3c5-47a8-832c-65461893fb78",
   "metadata": {},
   "outputs": [
    {
     "name": "stdout",
     "output_type": "stream",
     "text": [
      "writing job 'job_ligand_bacteriochlorin_umbrella_1 [conf_54]\n",
      "writing job 'job_ligand_bacteriochlorin_umbrella_2 [conf_81]\n",
      "writing job 'job_ligand_bacteriochlorin_umbrella_3 [conf_106]\n",
      "writing job 'job_ligand_bacteriochlorin_umbrella_4 [conf_128]\n",
      "writing job 'job_ligand_bacteriochlorin_umbrella_5 [conf_143]\n",
      "writing job 'job_ligand_bacteriochlorin_umbrella_6 [conf_156]\n",
      "writing job 'job_ligand_bacteriochlorin_umbrella_7 [conf_170]\n",
      "writing job 'job_ligand_bacteriochlorin_umbrella_8 [conf_192]\n",
      "writing job 'job_ligand_bacteriochlorin_umbrella_9 [conf_210]\n",
      "writing job 'job_ligand_bacteriochlorin_umbrella_10 [conf_225]\n",
      "writing job 'job_ligand_bacteriochlorin_umbrella_11 [conf_255]\n",
      "writing job 'job_ligand_bacteriochlorin_umbrella_12 [conf_278]\n",
      "writing job 'job_ligand_bacteriochlorin_umbrella_13 [conf_296]\n",
      "writing job 'job_ligand_bacteriochlorin_umbrella_14 [conf_310]\n",
      "writing job 'job_ligand_bacteriochlorin_umbrella_15 [conf_326]\n",
      "writing job 'job_ligand_bacteriochlorin_umbrella_16 [conf_345]\n",
      "writing job 'job_ligand_bacteriochlorin_umbrella_17 [conf_381]\n",
      "writing job 'job_ligand_bacteriochlorin_umbrella_18 [conf_393]\n",
      "writing job 'job_ligand_bacteriochlorin_umbrella_19 [conf_407]\n",
      "writing job 'job_ligand_bacteriochlorin_umbrella_20 [conf_418]\n",
      "writing job 'job_ligand_bacteriochlorin_umbrella_21 [conf_461]\n",
      "writing job 'job_ligand_bacteriochlorin_umbrella_22 [conf_475]\n",
      "writing job 'job_ligand_bacteriochlorin_umbrella_23 [conf_504]\n",
      "writing job 'job_ligand_bacteriochlorin_umbrella_24 [conf_524]\n",
      "writing job 'job_ligand_bacteriochlorin_umbrella_25 [conf_538]\n",
      "writing job 'job_ligand_bacteriochlorin_umbrella_26 [conf_554]\n",
      "writing job 'job_ligand_bacteriochlorin_umbrella_27 [conf_578]\n",
      "writing job 'job_ligand_bacteriochlorin_umbrella_28 [conf_599]\n",
      "writing job 'job_ligand_bacteriochlorin_umbrella_29 [conf_626]\n",
      "writing job 'job_ligand_bacteriochlorin_umbrella_30 [conf_641]\n",
      "writing job 'job_ligand_bacteriochlorin_umbrella_31 [conf_660]\n",
      "to run all jobs do :: \n",
      "$ for i in {1..19}; do sbatch job_ligand_bacteriochlorin_umbrella_${i}; done\n",
      "\n",
      "\n"
     ]
    }
   ],
   "source": [
    "for i, ind in enumerate(inds_bact):\n",
    "    if i > 0:\n",
    "        job_to_write = batch_job_umbrella_bact.replace(\"__CONF__\", str(ind))\n",
    "        job_name = \"job_ligand_bacteriochlorin_umbrella_{0}\".format(i)\n",
    "        print(\"writing job '{0} [conf_{1}]\".format(job_name, ind))        \n",
    "        #with open(job_name, \"w\") as f_job_out:\n",
    "        #    f_job_out.write(job_to_write)\n",
    "\n",
    "print(\"to run all jobs do :: \")\n",
    "print(\"$ for i in {1..19}; do sbatch job_ligand_bacteriochlorin_umbrella_${i}; done\\n\\n\")"
   ]
  },
  {
   "cell_type": "code",
   "execution_count": 94,
   "id": "5536e07e-07b9-4912-b043-56a10a14b525",
   "metadata": {},
   "outputs": [
    {
     "name": "stdout",
     "output_type": "stream",
     "text": [
      "#!/bin/bash\n",
      "# \n",
      "#\n",
      "#SBATCH -e slurm-%j.e\n",
      "#SBATCH -o slurm-%j.o\n",
      "#\n",
      "#### GPU BATCH JOB\n",
      "#SBATCH --nodes=1\n",
      "#SBATCH --ntasks-per-node=4\n",
      "#SBATCH --partition=batch_gpu.q\n",
      "#SBATCH --ntasks=4\n",
      "#SBATCH --gres=gpu:v100:1\n",
      "#\n",
      "#\n",
      "#### CPU BATCH JOB\n",
      "##SBATCH --ntasks=128\n",
      "##SBATCH --nodes=1\n",
      "##SBATCH --ntasks-per-node=128\n",
      "##SBATCH --partition=batch_csa_resvervation.q\n",
      "#\n",
      "#\n",
      "##SBATCH -t 24:00:00\n",
      "##SBATCH --dependency=afterok\n"
     ]
    }
   ],
   "source": [
    "print(batch_job_umbrella_bact[:400])"
   ]
  },
  {
   "cell_type": "code",
   "execution_count": 113,
   "id": "8346c772-1172-45c2-9ff0-7f46160bf426",
   "metadata": {},
   "outputs": [
    {
     "data": {
      "text/plain": [
       "1.7746527777777779"
      ]
     },
     "execution_count": 113,
     "metadata": {},
     "output_type": "execute_result"
    }
   ],
   "source": [
    "(6*60+14-(60+45))/60*38/4/24"
   ]
  },
  {
   "cell_type": "code",
   "execution_count": null,
   "id": "8d67b324-5415-4ac0-86df-b43cb6930a68",
   "metadata": {},
   "outputs": [],
   "source": []
  }
 ],
 "metadata": {
  "kernelspec": {
   "display_name": "Python 3 (ipykernel)",
   "language": "python",
   "name": "python3"
  },
  "language_info": {
   "codemirror_mode": {
    "name": "ipython",
    "version": 3
   },
   "file_extension": ".py",
   "mimetype": "text/x-python",
   "name": "python",
   "nbconvert_exporter": "python",
   "pygments_lexer": "ipython3",
   "version": "3.12.9"
  }
 },
 "nbformat": 4,
 "nbformat_minor": 5
}
